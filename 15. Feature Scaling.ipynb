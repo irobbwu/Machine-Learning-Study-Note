{
 "cells": [
  {
   "cell_type": "markdown",
   "metadata": {},
   "source": [
    "# Feature scaling"
   ]
  },
  {
   "cell_type": "code",
   "execution_count": 1,
   "metadata": {},
   "outputs": [],
   "source": [
    "import numpy as np\n",
    "import matplotlib.pyplot as plt"
   ]
  },
  {
   "cell_type": "markdown",
   "metadata": {},
   "source": [
    "## Normalization\n",
    "\n",
    "适用于有边界的数据\n",
    "\n",
    "$x_{scale} = \\frac{x-x_{min}}{x_{max}-x_{min}}$"
   ]
  },
  {
   "cell_type": "code",
   "execution_count": 2,
   "metadata": {},
   "outputs": [],
   "source": [
    "x = np.random.randint(0, 100, size = 100)"
   ]
  },
  {
   "cell_type": "code",
   "execution_count": 3,
   "metadata": {
    "scrolled": true
   },
   "outputs": [
    {
     "data": {
      "text/plain": [
       "array([29, 51, 21, 82, 79, 40, 23, 54, 26, 49, 58, 14, 24, 40,  1, 75, 54,\n",
       "       60, 58, 89, 97, 57, 90, 88, 86, 42, 78, 11, 79, 73, 33,  3, 46, 65,\n",
       "       65, 78, 73, 63, 88, 21, 60, 80, 43, 13, 55, 34, 84, 66, 42, 80, 75,\n",
       "       99, 41, 93, 12, 78, 57, 36, 86, 28, 32, 71, 63, 29, 55, 76, 82, 34,\n",
       "       96, 21, 11, 19, 51, 18, 59, 87,  1, 92, 28, 92, 55, 85, 72, 10, 99,\n",
       "       89,  5, 50, 19, 87, 45, 80, 58, 10, 43, 60, 24, 12, 83,  5])"
      ]
     },
     "execution_count": 3,
     "metadata": {},
     "output_type": "execute_result"
    }
   ],
   "source": [
    "x"
   ]
  },
  {
   "cell_type": "code",
   "execution_count": 4,
   "metadata": {},
   "outputs": [],
   "source": [
    "x = (x - np.min(x))/(np.max(x) - np.min(x))"
   ]
  },
  {
   "cell_type": "code",
   "execution_count": 5,
   "metadata": {},
   "outputs": [
    {
     "data": {
      "text/plain": [
       "array([0.28571429, 0.51020408, 0.20408163, 0.82653061, 0.79591837,\n",
       "       0.39795918, 0.2244898 , 0.54081633, 0.25510204, 0.48979592,\n",
       "       0.58163265, 0.13265306, 0.23469388, 0.39795918, 0.        ,\n",
       "       0.75510204, 0.54081633, 0.60204082, 0.58163265, 0.89795918,\n",
       "       0.97959184, 0.57142857, 0.90816327, 0.8877551 , 0.86734694,\n",
       "       0.41836735, 0.78571429, 0.10204082, 0.79591837, 0.73469388,\n",
       "       0.32653061, 0.02040816, 0.45918367, 0.65306122, 0.65306122,\n",
       "       0.78571429, 0.73469388, 0.63265306, 0.8877551 , 0.20408163,\n",
       "       0.60204082, 0.80612245, 0.42857143, 0.12244898, 0.55102041,\n",
       "       0.33673469, 0.84693878, 0.66326531, 0.41836735, 0.80612245,\n",
       "       0.75510204, 1.        , 0.40816327, 0.93877551, 0.1122449 ,\n",
       "       0.78571429, 0.57142857, 0.35714286, 0.86734694, 0.2755102 ,\n",
       "       0.31632653, 0.71428571, 0.63265306, 0.28571429, 0.55102041,\n",
       "       0.76530612, 0.82653061, 0.33673469, 0.96938776, 0.20408163,\n",
       "       0.10204082, 0.18367347, 0.51020408, 0.17346939, 0.59183673,\n",
       "       0.87755102, 0.        , 0.92857143, 0.2755102 , 0.92857143,\n",
       "       0.55102041, 0.85714286, 0.7244898 , 0.09183673, 1.        ,\n",
       "       0.89795918, 0.04081633, 0.5       , 0.18367347, 0.87755102,\n",
       "       0.44897959, 0.80612245, 0.58163265, 0.09183673, 0.42857143,\n",
       "       0.60204082, 0.23469388, 0.1122449 , 0.83673469, 0.04081633])"
      ]
     },
     "execution_count": 5,
     "metadata": {},
     "output_type": "execute_result"
    }
   ],
   "source": [
    "x"
   ]
  },
  {
   "cell_type": "code",
   "execution_count": 6,
   "metadata": {},
   "outputs": [],
   "source": [
    "X = np.random.randint(0, 100, (50, 2))"
   ]
  },
  {
   "cell_type": "code",
   "execution_count": 7,
   "metadata": {},
   "outputs": [
    {
     "data": {
      "text/plain": [
       "array([[90, 14],\n",
       "       [41, 88],\n",
       "       [83, 20],\n",
       "       [41, 28],\n",
       "       [23, 46],\n",
       "       [27, 73],\n",
       "       [92, 70],\n",
       "       [27, 97],\n",
       "       [74, 40],\n",
       "       [41, 59]])"
      ]
     },
     "execution_count": 7,
     "metadata": {},
     "output_type": "execute_result"
    }
   ],
   "source": [
    "X[:10, :]"
   ]
  },
  {
   "cell_type": "code",
   "execution_count": 8,
   "metadata": {},
   "outputs": [],
   "source": [
    "X = np.array(X, dtype = float)"
   ]
  },
  {
   "cell_type": "code",
   "execution_count": 9,
   "metadata": {},
   "outputs": [
    {
     "data": {
      "text/plain": [
       "array([[90., 14.],\n",
       "       [41., 88.],\n",
       "       [83., 20.],\n",
       "       [41., 28.],\n",
       "       [23., 46.],\n",
       "       [27., 73.],\n",
       "       [92., 70.],\n",
       "       [27., 97.],\n",
       "       [74., 40.],\n",
       "       [41., 59.]])"
      ]
     },
     "execution_count": 9,
     "metadata": {},
     "output_type": "execute_result"
    }
   ],
   "source": [
    "X[:10, :]"
   ]
  },
  {
   "cell_type": "code",
   "execution_count": 10,
   "metadata": {},
   "outputs": [],
   "source": [
    "X[:, 0] = (X[:, 0] - np.min(X[:, 0]))/(np.max(X[:, 0])-np.min(X[:, 0]))"
   ]
  },
  {
   "cell_type": "code",
   "execution_count": 11,
   "metadata": {},
   "outputs": [],
   "source": [
    "X[:, 1] = (X[:, 1] - np.min(X[:, 1]))/(np.max(X[:, 1])-np.min(X[:, 1]))"
   ]
  },
  {
   "cell_type": "code",
   "execution_count": 12,
   "metadata": {},
   "outputs": [
    {
     "data": {
      "text/plain": [
       "array([[0.97826087, 0.10638298],\n",
       "       [0.44565217, 0.89361702],\n",
       "       [0.90217391, 0.17021277],\n",
       "       [0.44565217, 0.25531915],\n",
       "       [0.25      , 0.44680851],\n",
       "       [0.29347826, 0.73404255],\n",
       "       [1.        , 0.70212766],\n",
       "       [0.29347826, 0.9893617 ],\n",
       "       [0.80434783, 0.38297872],\n",
       "       [0.44565217, 0.58510638]])"
      ]
     },
     "execution_count": 12,
     "metadata": {},
     "output_type": "execute_result"
    }
   ],
   "source": [
    "X[:10, :]"
   ]
  },
  {
   "cell_type": "code",
   "execution_count": 13,
   "metadata": {},
   "outputs": [
    {
     "data": {
      "image/png": "[encoded data removed]",
      "text/plain": [
       "<Figure size 432x288 with 1 Axes>"
      ]
     },
     "metadata": {
      "needs_background": "light"
     },
     "output_type": "display_data"
    }
   ],
   "source": [
    "plt.scatter(X[:, 0], X[:, 1])\n",
    "plt.show()"
   ]
  },
  {
   "cell_type": "code",
   "execution_count": 14,
   "metadata": {
    "scrolled": true
   },
   "outputs": [
    {
     "data": {
      "text/plain": [
       "0.523695652173913"
      ]
     },
     "execution_count": 14,
     "metadata": {},
     "output_type": "execute_result"
    }
   ],
   "source": [
    "np.mean(X[:, 0])"
   ]
  },
  {
   "cell_type": "code",
   "execution_count": 15,
   "metadata": {},
   "outputs": [
    {
     "data": {
      "text/plain": [
       "0.2886534967912737"
      ]
     },
     "execution_count": 15,
     "metadata": {},
     "output_type": "execute_result"
    }
   ],
   "source": [
    "np.std(X[:, 0])"
   ]
  },
  {
   "cell_type": "code",
   "execution_count": 16,
   "metadata": {},
   "outputs": [
    {
     "data": {
      "text/plain": [
       "0.49851063829787234"
      ]
     },
     "execution_count": 16,
     "metadata": {},
     "output_type": "execute_result"
    }
   ],
   "source": [
    "np.mean(X[:, 1])"
   ]
  },
  {
   "cell_type": "code",
   "execution_count": 17,
   "metadata": {},
   "outputs": [
    {
     "data": {
      "text/plain": [
       "0.3069292559049654"
      ]
     },
     "execution_count": 17,
     "metadata": {},
     "output_type": "execute_result"
    }
   ],
   "source": [
    "np.std(X[:, 1])"
   ]
  },
  {
   "cell_type": "markdown",
   "metadata": {},
   "source": [
    "## Standardization\n",
    "\n",
    "把所有数据归一到均值为0方差为1的分布中\n",
    "\n",
    "$x_{scale} = \\frac{x-x_{mean}}{s}$"
   ]
  },
  {
   "cell_type": "code",
   "execution_count": 18,
   "metadata": {},
   "outputs": [],
   "source": [
    "x2 = np.random.randint(0, 100, (50, 2))"
   ]
  },
  {
   "cell_type": "code",
   "execution_count": 19,
   "metadata": {},
   "outputs": [],
   "source": [
    "x2 = np.array(x2, dtype = float)"
   ]
  },
  {
   "cell_type": "code",
   "execution_count": 20,
   "metadata": {},
   "outputs": [],
   "source": [
    "x2[:, 0] = (x2[:, 0] - np.mean(x2[:, 0]))/np.std(x2[:, 0])"
   ]
  },
  {
   "cell_type": "code",
   "execution_count": 21,
   "metadata": {},
   "outputs": [],
   "source": [
    "x2[:, 1] = (x2[:, 1] - np.mean(x2[:, 1]))/np.std(x2[:, 1])"
   ]
  },
  {
   "cell_type": "code",
   "execution_count": 22,
   "metadata": {},
   "outputs": [
    {
     "data": {
      "image/png": "[encoded data removed]",
      "text/plain": [
       "<Figure size 432x288 with 1 Axes>"
      ]
     },
     "metadata": {
      "needs_background": "light"
     },
     "output_type": "display_data"
    }
   ],
   "source": [
    "plt.scatter(x2[:, 0], x2[:, 1])\n",
    "plt.show()"
   ]
  },
  {
   "cell_type": "code",
   "execution_count": 23,
   "metadata": {},
   "outputs": [
    {
     "data": {
      "text/plain": [
       "-2.6645352591003756e-17"
      ]
     },
     "execution_count": 23,
     "metadata": {},
     "output_type": "execute_result"
    }
   ],
   "source": [
    "np.mean(x2[:, 0])"
   ]
  },
  {
   "cell_type": "code",
   "execution_count": 24,
   "metadata": {},
   "outputs": [
    {
     "data": {
      "text/plain": [
       "1.0"
      ]
     },
     "execution_count": 24,
     "metadata": {},
     "output_type": "execute_result"
    }
   ],
   "source": [
    "np.std(x2[:, 0])"
   ]
  },
  {
   "cell_type": "code",
   "execution_count": 25,
   "metadata": {},
   "outputs": [
    {
     "data": {
      "text/plain": [
       "-8.881784197001253e-18"
      ]
     },
     "execution_count": 25,
     "metadata": {},
     "output_type": "execute_result"
    }
   ],
   "source": [
    "np.mean(x2[:, 1])"
   ]
  },
  {
   "cell_type": "code",
   "execution_count": 26,
   "metadata": {},
   "outputs": [
    {
     "data": {
      "text/plain": [
       "1.0"
      ]
     },
     "execution_count": 26,
     "metadata": {},
     "output_type": "execute_result"
    }
   ],
   "source": [
    "np.std(x2[:, 1])"
   ]
  }
 ],
 "metadata": {
  "kernelspec": {
   "display_name": "Python 3",
   "language": "python",
   "name": "python3"
  },
  "language_info": {
   "codemirror_mode": {
    "name": "ipython",
    "version": 3
   },
   "file_extension": ".py",
   "mimetype": "text/x-python",
   "name": "python",
   "nbconvert_exporter": "python",
   "pygments_lexer": "ipython3",
   "version": "3.7.2"
  }
 },
 "nbformat": 4,
 "nbformat_minor": 4
}
