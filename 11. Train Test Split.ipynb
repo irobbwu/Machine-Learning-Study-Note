{
 "cells": [
  {
   "cell_type": "markdown",
   "metadata": {},
   "source": [
    "# 测试我们的算法"
   ]
  },
  {
   "cell_type": "code",
   "execution_count": 1,
   "metadata": {},
   "outputs": [],
   "source": [
    "import numpy as np\n",
    "import matplotlib.pyplot as plot\n",
    "from sklearn import datasets"
   ]
  },
  {
   "cell_type": "code",
   "execution_count": 2,
   "metadata": {},
   "outputs": [],
   "source": [
    "iris = datasets.load_iris()"
   ]
  },
  {
   "cell_type": "code",
   "execution_count": 3,
   "metadata": {},
   "outputs": [],
   "source": [
    "X = iris.data\n",
    "y = iris.target"
   ]
  },
  {
   "cell_type": "code",
   "execution_count": 4,
   "metadata": {},
   "outputs": [
    {
     "data": {
      "text/plain": [
       "(150, 4)"
      ]
     },
     "execution_count": 4,
     "metadata": {},
     "output_type": "execute_result"
    }
   ],
   "source": [
    "X.shape"
   ]
  },
  {
   "cell_type": "code",
   "execution_count": 5,
   "metadata": {},
   "outputs": [
    {
     "data": {
      "text/plain": [
       "(150,)"
      ]
     },
     "execution_count": 5,
     "metadata": {},
     "output_type": "execute_result"
    }
   ],
   "source": [
    "y.shape"
   ]
  },
  {
   "cell_type": "markdown",
   "metadata": {},
   "source": [
    "## train_test_split"
   ]
  },
  {
   "cell_type": "code",
   "execution_count": 6,
   "metadata": {},
   "outputs": [
    {
     "data": {
      "text/plain": [
       "array([0, 0, 0, 0, 0, 0, 0, 0, 0, 0, 0, 0, 0, 0, 0, 0, 0, 0, 0, 0, 0, 0,\n",
       "       0, 0, 0, 0, 0, 0, 0, 0, 0, 0, 0, 0, 0, 0, 0, 0, 0, 0, 0, 0, 0, 0,\n",
       "       0, 0, 0, 0, 0, 0, 1, 1, 1, 1, 1, 1, 1, 1, 1, 1, 1, 1, 1, 1, 1, 1,\n",
       "       1, 1, 1, 1, 1, 1, 1, 1, 1, 1, 1, 1, 1, 1, 1, 1, 1, 1, 1, 1, 1, 1,\n",
       "       1, 1, 1, 1, 1, 1, 1, 1, 1, 1, 1, 1, 2, 2, 2, 2, 2, 2, 2, 2, 2, 2,\n",
       "       2, 2, 2, 2, 2, 2, 2, 2, 2, 2, 2, 2, 2, 2, 2, 2, 2, 2, 2, 2, 2, 2,\n",
       "       2, 2, 2, 2, 2, 2, 2, 2, 2, 2, 2, 2, 2, 2, 2, 2, 2, 2])"
      ]
     },
     "execution_count": 6,
     "metadata": {},
     "output_type": "execute_result"
    }
   ],
   "source": [
    "y"
   ]
  },
  {
   "cell_type": "code",
   "execution_count": 7,
   "metadata": {},
   "outputs": [],
   "source": [
    "shuffle_indexes = np.random.permutation(len(X))"
   ]
  },
  {
   "cell_type": "code",
   "execution_count": 8,
   "metadata": {},
   "outputs": [
    {
     "data": {
      "text/plain": [
       "array([ 24,  38, 110, 111, 140,  45,   8,  44, 142,   5,  21,  73,  88,\n",
       "       115,  87, 118,  92,  18, 114,  37,  29,   4, 124,  75, 108,  93,\n",
       "        52, 119, 120,  61,  12,  83,  25, 112,  89, 103, 102,  51,  13,\n",
       "        36,  76,  91, 143,  62,   9,  97,  42,  66,  96,  72,   0,  10,\n",
       "       135, 148, 131,  41,  54, 137,  99,  60,  28,  47,  68,  23,  22,\n",
       "         2,  49,  32,  50,  85,  16, 134,  84,  58,  86, 144,  11,  15,\n",
       "       132, 129, 138,  53, 147,  35, 128, 113,  65,  78,  74, 133,  19,\n",
       "       117, 126,  20,  57,  43,  17, 149, 145,   3, 122, 146,  59,  34,\n",
       "        77,  63,  64, 105,  14,  30, 101,  80,  26,  94, 106, 127, 100,\n",
       "        27, 107, 136, 123,  79,  55,  46,   7, 116,  70, 104,   1,  95,\n",
       "        33, 121,  98,  69,  82,  56, 139, 109,   6,  40,  48, 125, 141,\n",
       "        81,  71,  90, 130,  67,  39,  31])"
      ]
     },
     "execution_count": 8,
     "metadata": {},
     "output_type": "execute_result"
    }
   ],
   "source": [
    "shuffle_indexes"
   ]
  },
  {
   "cell_type": "code",
   "execution_count": 9,
   "metadata": {},
   "outputs": [],
   "source": [
    "test_ratio = 0.2\n",
    "test_size = int(len(X) * test_ratio)"
   ]
  },
  {
   "cell_type": "code",
   "execution_count": 10,
   "metadata": {},
   "outputs": [
    {
     "data": {
      "text/plain": [
       "30"
      ]
     },
     "execution_count": 10,
     "metadata": {},
     "output_type": "execute_result"
    }
   ],
   "source": [
    "test_size"
   ]
  },
  {
   "cell_type": "code",
   "execution_count": 11,
   "metadata": {},
   "outputs": [],
   "source": [
    "test_indexes = shuffle_indexes[:test_size]\n",
    "train_indexes = shuffle_indexes[test_size:]"
   ]
  },
  {
   "cell_type": "code",
   "execution_count": 12,
   "metadata": {},
   "outputs": [],
   "source": [
    "X_train = X[train_indexes]\n",
    "y_train = y[train_indexes]\n",
    "\n",
    "X_test = X[test_indexes]\n",
    "y_test = y[test_indexes]"
   ]
  },
  {
   "cell_type": "code",
   "execution_count": 13,
   "metadata": {},
   "outputs": [
    {
     "name": "stdout",
     "output_type": "stream",
     "text": [
      "(120, 4) (120,) \n",
      " (30, 4) (30,)\n"
     ]
    }
   ],
   "source": [
    "print(X_train.shape, y_train.shape, '\\n', X_test.shape, y_test.shape)"
   ]
  },
  {
   "cell_type": "markdown",
   "metadata": {},
   "source": [
    "## 使用我们的算法"
   ]
  },
  {
   "cell_type": "code",
   "execution_count": 14,
   "metadata": {},
   "outputs": [],
   "source": [
    "from playML.model_selection import train_test_split"
   ]
  },
  {
   "cell_type": "code",
   "execution_count": 15,
   "metadata": {},
   "outputs": [
    {
     "name": "stdout",
     "output_type": "stream",
     "text": [
      "[[6.7 3.  5.2 2.3]\n",
      " [6.  2.2 4.  1. ]\n",
      " [6.  2.7 5.1 1.6]\n",
      " [5.4 3.4 1.5 0.4]\n",
      " [6.4 2.7 5.3 1.9]\n",
      " [6.7 3.  5.  1.7]\n",
      " [6.8 3.  5.5 2.1]\n",
      " [5.  3.6 1.4 0.2]\n",
      " [4.9 3.1 1.5 0.1]\n",
      " [7.2 3.2 6.  1.8]\n",
      " [4.8 3.1 1.6 0.2]\n",
      " [6.3 2.7 4.9 1.8]\n",
      " [7.7 2.6 6.9 2.3]\n",
      " [6.7 3.3 5.7 2.5]\n",
      " [5.1 3.4 1.5 0.2]\n",
      " [6.3 3.3 6.  2.5]\n",
      " [6.5 3.2 5.1 2. ]\n",
      " [5.1 3.3 1.7 0.5]\n",
      " [6.1 2.9 4.7 1.4]\n",
      " [5.1 3.5 1.4 0.2]\n",
      " [5.6 2.9 3.6 1.3]\n",
      " [5.4 3.9 1.3 0.4]\n",
      " [7.3 2.9 6.3 1.8]\n",
      " [6.5 3.  5.5 1.8]\n",
      " [6.5 2.8 4.6 1.5]\n",
      " [4.4 3.2 1.3 0.2]\n",
      " [6.2 2.2 4.5 1.5]\n",
      " [5.9 3.  4.2 1.5]\n",
      " [5.4 3.  4.5 1.5]\n",
      " [4.9 3.  1.4 0.2]\n",
      " [5.4 3.4 1.7 0.2]\n",
      " [5.  3.  1.6 0.2]\n",
      " [5.8 2.7 5.1 1.9]\n",
      " [6.4 2.9 4.3 1.3]\n",
      " [5.1 2.5 3.  1.1]\n",
      " [6.7 3.1 4.4 1.4]\n",
      " [5.2 4.1 1.5 0.1]\n",
      " [6.1 2.8 4.7 1.2]\n",
      " [4.8 3.4 1.9 0.2]\n",
      " [5.7 2.9 4.2 1.3]\n",
      " [5.8 4.  1.2 0.2]\n",
      " [4.8 3.  1.4 0.3]\n",
      " [6.3 2.3 4.4 1.3]\n",
      " [5.  2.  3.5 1. ]\n",
      " [5.7 2.6 3.5 1. ]\n",
      " [6.2 3.4 5.4 2.3]\n",
      " [4.6 3.4 1.4 0.3]\n",
      " [6.7 3.1 5.6 2.4]\n",
      " [7.7 3.  6.1 2.3]\n",
      " [4.5 2.3 1.3 0.3]\n",
      " [7.4 2.8 6.1 1.9]\n",
      " [6.6 2.9 4.6 1.3]\n",
      " [6.4 3.2 4.5 1.5]\n",
      " [6.  2.9 4.5 1.5]\n",
      " [4.6 3.1 1.5 0.2]\n",
      " [5.7 4.4 1.5 0.4]\n",
      " [6.5 3.  5.2 2. ]\n",
      " [7.9 3.8 6.4 2. ]\n",
      " [5.6 2.5 3.9 1.1]\n",
      " [4.6 3.6 1.  0.2]\n",
      " [4.3 3.  1.1 0.1]\n",
      " [5.7 2.5 5.  2. ]\n",
      " [5.9 3.2 4.8 1.8]\n",
      " [6.4 2.8 5.6 2.1]\n",
      " [5.6 2.7 4.2 1.3]\n",
      " [4.7 3.2 1.3 0.2]\n",
      " [6.8 3.2 5.9 2.3]\n",
      " [4.6 3.2 1.4 0.2]\n",
      " [5.7 3.8 1.7 0.3]\n",
      " [5.1 3.8 1.6 0.2]\n",
      " [5.  3.4 1.6 0.4]\n",
      " [5.1 3.5 1.4 0.3]\n",
      " [6.7 2.5 5.8 1.8]\n",
      " [7.1 3.  5.9 2.1]\n",
      " [4.9 3.6 1.4 0.1]\n",
      " [5.5 4.2 1.4 0.2]\n",
      " [7.7 3.8 6.7 2.2]\n",
      " [7.7 2.8 6.7 2. ]\n",
      " [5.8 2.6 4.  1.2]\n",
      " [6.1 2.8 4.  1.3]\n",
      " [6.3 3.4 5.6 2.4]\n",
      " [6.9 3.1 5.4 2.1]\n",
      " [5.  3.3 1.4 0.2]\n",
      " [5.8 2.7 3.9 1.2]\n",
      " [5.2 2.7 3.9 1.4]\n",
      " [5.1 3.8 1.9 0.4]\n",
      " [5.6 3.  4.1 1.3]\n",
      " [5.4 3.7 1.5 0.2]\n",
      " [6.3 2.9 5.6 1.8]\n",
      " [6.4 3.1 5.5 1.8]\n",
      " [5.6 2.8 4.9 2. ]\n",
      " [6.2 2.9 4.3 1.3]\n",
      " [5.  3.5 1.6 0.6]\n",
      " [5.8 2.7 5.1 1.9]\n",
      " [5.8 2.8 5.1 2.4]\n",
      " [4.9 3.1 1.5 0.2]\n",
      " [7.2 3.  5.8 1.6]\n",
      " [5.  3.5 1.3 0.3]\n",
      " [5.7 2.8 4.5 1.3]\n",
      " [6.8 2.8 4.8 1.4]\n",
      " [5.2 3.4 1.4 0.2]\n",
      " [6.4 2.8 5.6 2.2]\n",
      " [5.  2.3 3.3 1. ]\n",
      " [6.3 2.8 5.1 1.5]\n",
      " [5.5 2.4 3.7 1. ]\n",
      " [5.5 2.6 4.4 1.2]\n",
      " [6.4 3.2 5.3 2.3]\n",
      " [6.  3.  4.8 1.8]\n",
      " [5.7 2.8 4.1 1.3]\n",
      " [6.7 3.1 4.7 1.5]\n",
      " [5.5 2.5 4.  1.3]\n",
      " [5.5 2.4 3.8 1.1]\n",
      " [5.3 3.7 1.5 0.2]\n",
      " [6.3 2.5 5.  1.9]\n",
      " [6.6 3.  4.4 1.4]\n",
      " [6.1 2.6 5.6 1.4]\n",
      " [5.2 3.5 1.5 0.2]\n",
      " [5.5 2.3 4.  1.3]\n",
      " [6.3 3.3 4.7 1.6]\n",
      " [4.4 3.  1.3 0.2]]\n"
     ]
    }
   ],
   "source": [
    "X_train, X_test, y_train, y_test = train_test_split(X, y)"
   ]
  },
  {
   "cell_type": "code",
   "execution_count": 16,
   "metadata": {},
   "outputs": [
    {
     "name": "stdout",
     "output_type": "stream",
     "text": [
      "(120, 4) (120,) \n",
      " (30, 4) (30,)\n"
     ]
    }
   ],
   "source": [
    "print(X_train.shape, y_train.shape, '\\n', X_test.shape, y_test.shape)"
   ]
  },
  {
   "cell_type": "code",
   "execution_count": 17,
   "metadata": {},
   "outputs": [],
   "source": [
    "from playML.KNN import KNNClassifier\n"
   ]
  },
  {
   "cell_type": "code",
   "execution_count": 18,
   "metadata": {},
   "outputs": [],
   "source": [
    "knn_clf = KNNClassifier(k = 3)"
   ]
  },
  {
   "cell_type": "code",
   "execution_count": 19,
   "metadata": {},
   "outputs": [
    {
     "data": {
      "text/plain": [
       "kNN(k = 3)"
      ]
     },
     "execution_count": 19,
     "metadata": {},
     "output_type": "execute_result"
    }
   ],
   "source": [
    "knn_clf.fit(X_train, y_train)"
   ]
  },
  {
   "cell_type": "code",
   "execution_count": 20,
   "metadata": {},
   "outputs": [],
   "source": [
    "y_predict = knn_clf.predict(X_test)"
   ]
  },
  {
   "cell_type": "code",
   "execution_count": 21,
   "metadata": {},
   "outputs": [
    {
     "data": {
      "text/plain": [
       "array([2, 2, 1, 2, 1, 1, 1, 0, 2, 2, 1, 0, 2, 0, 1, 0, 1, 1, 1, 2, 0, 1,\n",
       "       2, 0, 2, 0, 2, 0, 0, 0])"
      ]
     },
     "execution_count": 21,
     "metadata": {},
     "output_type": "execute_result"
    }
   ],
   "source": [
    "y_predict "
   ]
  },
  {
   "cell_type": "code",
   "execution_count": 22,
   "metadata": {},
   "outputs": [
    {
     "data": {
      "text/plain": [
       "27"
      ]
     },
     "execution_count": 22,
     "metadata": {},
     "output_type": "execute_result"
    }
   ],
   "source": [
    "sum(y_predict == y_test)"
   ]
  },
  {
   "cell_type": "code",
   "execution_count": 23,
   "metadata": {},
   "outputs": [
    {
     "data": {
      "text/plain": [
       "0.9"
      ]
     },
     "execution_count": 23,
     "metadata": {},
     "output_type": "execute_result"
    }
   ],
   "source": [
    "correct = sum(y_predict == y_test)/len(y_test)\n",
    "float(correct)"
   ]
  },
  {
   "cell_type": "markdown",
   "metadata": {},
   "source": [
    "### sklearn中的train_test_split"
   ]
  },
  {
   "cell_type": "code",
   "execution_count": 24,
   "metadata": {},
   "outputs": [],
   "source": [
    "from sklearn.model_selection import train_test_split\n",
    "from sklearn.neighbors import KNeighborsClassifier"
   ]
  },
  {
   "cell_type": "code",
   "execution_count": 25,
   "metadata": {},
   "outputs": [],
   "source": [
    "X_train, X_test, y_train, y_test = train_test_split(X, y, test_size = 0.2)"
   ]
  },
  {
   "cell_type": "code",
   "execution_count": 26,
   "metadata": {},
   "outputs": [
    {
     "name": "stdout",
     "output_type": "stream",
     "text": [
      "(120, 4) (120,) \n",
      " (30, 4) (30,)\n"
     ]
    }
   ],
   "source": [
    "print(X_train.shape, y_train.shape, '\\n', X_test.shape, y_test.shape)"
   ]
  },
  {
   "cell_type": "code",
   "execution_count": 27,
   "metadata": {},
   "outputs": [
    {
     "data": {
      "text/plain": [
       "array([0, 0, 2, 2, 2, 0, 0, 2, 1, 1, 2, 2, 2, 0, 2, 1, 2, 2, 0, 2, 0, 1,\n",
       "       0, 0, 1, 2, 2, 0, 1, 0])"
      ]
     },
     "execution_count": 27,
     "metadata": {},
     "output_type": "execute_result"
    }
   ],
   "source": [
    "kNN_classifier = KNeighborsClassifier(n_neighbors = 3)\n",
    "kNN_classifier.fit(X_train, y_train)\n",
    "kNN_classifier.predict(X_test)"
   ]
  },
  {
   "cell_type": "code",
   "execution_count": 28,
   "metadata": {},
   "outputs": [
    {
     "data": {
      "text/plain": [
       "28"
      ]
     },
     "execution_count": 28,
     "metadata": {},
     "output_type": "execute_result"
    }
   ],
   "source": [
    "sum(kNN_classifier.predict(X_test) == y_test)"
   ]
  },
  {
   "cell_type": "code",
   "execution_count": 29,
   "metadata": {},
   "outputs": [
    {
     "data": {
      "text/plain": [
       "0.9333333333333333"
      ]
     },
     "execution_count": 29,
     "metadata": {},
     "output_type": "execute_result"
    }
   ],
   "source": [
    "correct = sum(kNN_classifier.predict(X_test) == y_test)/len(y_test)\n",
    "float(correct)"
   ]
  }
 ],
 "metadata": {
  "kernelspec": {
   "display_name": "Python 3",
   "language": "python",
   "name": "python3"
  },
  "language_info": {
   "codemirror_mode": {
    "name": "ipython",
    "version": 3
   },
   "file_extension": ".py",
   "mimetype": "text/x-python",
   "name": "python",
   "nbconvert_exporter": "python",
   "pygments_lexer": "ipython3",
   "version": "3.7.2"
  }
 },
 "nbformat": 4,
 "nbformat_minor": 4
}
